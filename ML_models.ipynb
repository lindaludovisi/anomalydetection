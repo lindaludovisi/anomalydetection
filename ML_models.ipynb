{
  "nbformat": 4,
  "nbformat_minor": 0,
  "metadata": {
    "colab": {
      "name": "stageLLUD_modelsML.ipynb",
      "provenance": [],
      "collapsed_sections": [
        "fB24PdGgFvBI",
        "fsnyInQbV1TU"
      ],
      "toc_visible": true
    },
    "kernelspec": {
      "display_name": "Python 3",
      "name": "python3"
    }
  },
  "cells": [
    {
      "cell_type": "markdown",
      "metadata": {
        "id": "3zmcbUV9SQtz"
      },
      "source": [
        "# Libraries"
      ]
    },
    {
      "cell_type": "code",
      "metadata": {
        "colab": {
          "base_uri": "https://localhost:8080/"
        },
        "id": "GnVthpEkSUH4",
        "outputId": "6dda1a29-a592-472a-bfe4-84db5153469c"
      },
      "source": [
        "!pip install imutils\r\n",
        " \r\n",
        "import os\r\n",
        "import pandas as pd\r\n",
        "import numpy as np\r\n",
        "import cv2\r\n",
        "\r\n",
        "from  matplotlib import pyplot as plt\r\n",
        "import matplotlib.image as mpimg\r\n",
        "import plotly.express as px\r\n",
        "import seaborn as sns\r\n",
        "\r\n",
        "import skimage\r\n",
        "from skimage.feature import hog\r\n",
        "from skimage.io import imread\r\n",
        "from skimage.transform import rescale\r\n",
        "from sklearn.base import BaseEstimator, TransformerMixin\r\n",
        "\r\n",
        "import itertools\r\n",
        "import random\r\n",
        "import imutils\r\n",
        "\r\n",
        "from sklearn.preprocessing import StandardScaler\r\n",
        "from sklearn.decomposition import PCA\r\n",
        "\r\n",
        "from imblearn.pipeline import Pipeline as imbPipeline\r\n",
        "from sklearn.model_selection import train_test_split\r\n",
        "from sklearn.metrics import f1_score\r\n",
        "from sklearn.metrics import confusion_matrix\r\n",
        "from sklearn.metrics import classification_report\r\n",
        "from sklearn.model_selection import GridSearchCV\r\n",
        "\r\n",
        "from sklearn.neighbors import KNeighborsClassifier as KNN\r\n",
        "from sklearn import svm\r\n",
        "from sklearn.tree import DecisionTreeClassifier\r\n",
        "from sklearn.ensemble import RandomForestClassifier\r\n",
        "import tensorflow as tf\r\n",
        "from tensorflow import keras\r\n",
        "\r\n",
        "import warnings\r\n",
        "warnings.filterwarnings(\"ignore\")"
      ],
      "execution_count": 1,
      "outputs": [
        {
          "output_type": "stream",
          "text": [
            "Requirement already satisfied: imutils in /usr/local/lib/python3.7/dist-packages (0.5.4)\n"
          ],
          "name": "stdout"
        },
        {
          "output_type": "stream",
          "text": [
            "/usr/local/lib/python3.7/dist-packages/sklearn/externals/six.py:31: FutureWarning:\n",
            "\n",
            "The module is deprecated in version 0.21 and will be removed in version 0.23 since we've dropped support for Python 2.7. Please rely on the official version of six (https://pypi.org/project/six/).\n",
            "\n",
            "/usr/local/lib/python3.7/dist-packages/sklearn/utils/deprecation.py:144: FutureWarning:\n",
            "\n",
            "The sklearn.neighbors.base module is  deprecated in version 0.22 and will be removed in version 0.24. The corresponding classes / functions should instead be imported from sklearn.neighbors. Anything that cannot be imported from sklearn.neighbors is now part of the private API.\n",
            "\n"
          ],
          "name": "stderr"
        }
      ]
    },
    {
      "cell_type": "markdown",
      "metadata": {
        "id": "aq19kML5Saw0"
      },
      "source": [
        "# Load the dataset"
      ]
    },
    {
      "cell_type": "code",
      "metadata": {
        "colab": {
          "base_uri": "https://localhost:8080/"
        },
        "id": "vfDSLYO4S5Wp",
        "outputId": "13531c07-806c-434d-8e69-5ec15885a0b7"
      },
      "source": [
        "!rm -r anomalydetection # Reload github repository\r\n",
        "#!rm -r products\r\n",
        "\r\n",
        "\r\n",
        "if not os.path.isdir('./anomalydetection'):\r\n",
        "  !git clone https://github.com/lindaludovisi/anomalydetection.git\r\n",
        "  #!mv 'anomalydetection' 'products' \r\n",
        "os.chdir('anomalydetection') # Change working directory\r\n"
      ],
      "execution_count": 2,
      "outputs": [
        {
          "output_type": "stream",
          "text": [
            "rm: cannot remove 'anomalydetection': No such file or directory\n",
            "Cloning into 'anomalydetection'...\n",
            "remote: Enumerating objects: 602, done.\u001b[K\n",
            "remote: Total 602 (delta 0), reused 0 (delta 0), pack-reused 602\u001b[K\n",
            "Receiving objects: 100% (602/602), 19.47 MiB | 8.43 MiB/s, done.\n",
            "Resolving deltas: 100% (88/88), done.\n"
          ],
          "name": "stdout"
        }
      ]
    },
    {
      "cell_type": "markdown",
      "metadata": {
        "id": "d_VnMAV1mHq3"
      },
      "source": [
        "#Preprocessing\r\n",
        "\r\n",
        "* The source folder is the input parameter containing the images for different classes.\r\n",
        "* Read the image file from the folder and convert it to the right color format.\r\n",
        "* Resize the image based on the input dimension required for the model\r\n",
        "* Convert the image to a Numpy array with float32 as the datatype\r\n",
        "* Normalize the image array to have values scaled down between 0 and 1 from 0 to 255 for a similar data distribution, which helps with faster convergence."
      ]
    },
    {
      "cell_type": "code",
      "metadata": {
        "colab": {
          "base_uri": "https://localhost:8080/"
        },
        "id": "NLHI9LoOlpHm",
        "outputId": "cffbb3f8-b209-48d7-a516-d60751b6e0c2"
      },
      "source": [
        "# Resize images using the following measures\r\n",
        "IMG_WIDTH   = 300\r\n",
        "IMG_HEIGHT  = 395\r\n",
        "\r\n",
        "IMG_FOLDER = r'dataset_products'\r\n",
        "#print(len(os.listdir(img_folder)))  # This should be 2\r\n",
        "\r\n",
        "def create_dataset(img_folder):   \r\n",
        "    img_data_array  = []\r\n",
        "    class_name      = []   \r\n",
        "    \r\n",
        "    for dir1 in ['compliant', 'defected']:   # For each category\r\n",
        "        for frame in os.listdir(os.path.join(img_folder, dir1)): # For each file      \r\n",
        "            # Load image and convert to RGB\r\n",
        "            image_path = os.path.join(img_folder, dir1, frame)\r\n",
        "            image = cv2.imread(image_path, cv2.COLOR_BGR2RGB)\r\n",
        "            #image = cv2.imread(image_path)\r\n",
        "\r\n",
        "            # Resize the image. Stretch the image using cv2.INTER_AREA\r\n",
        "            dim = (IMG_WIDTH, image.shape[0])\r\n",
        "            image = cv2.resize(image, dim, interpolation = cv2.INTER_AREA)\r\n",
        "            image = np.array(image, dtype='float32')\r\n",
        "            \r\n",
        "            y = image.shape[0]\r\n",
        "            diff  = y - IMG_HEIGHT\r\n",
        "            crop1 = np.array(image[0:(int((1/3)*y)), :], dtype='float32')\r\n",
        "            crop2 = np.array(image[int((1/3)*y)+diff:, :], dtype='float32')\r\n",
        "            image = np.concatenate((crop1, crop2))\r\n",
        "            image = np.array(image, dtype='float32')\r\n",
        "\r\n",
        "            # Normalize the image (0,1) \r\n",
        "            image /= 255 \r\n",
        "            img_data_array.append(image)\r\n",
        "            class_name.append(dir1)\r\n",
        "    return img_data_array, class_name\r\n",
        "\r\n",
        "# Extract the image array and class name\r\n",
        "img_data, class_name = create_dataset(IMG_FOLDER)\r\n",
        "img_data = np.array(img_data, np.float32)\r\n",
        "print(f\"Images have shape {img_data.shape}\")\r\n",
        "\r\n",
        "# Create a dictionary for the labels\r\n",
        "target_dict = { k : v for v, k in enumerate(np.unique(class_name))}\r\n",
        "print(target_dict)\r\n",
        "\r\n",
        "# Convert category names to label values\r\n",
        "target_val = [target_dict[class_name[i]] for i in range(len(class_name))]\r\n",
        "target_val = np.array(target_val)\r\n",
        "print(f\"Target array has shape {target_val.shape}\")"
      ],
      "execution_count": 3,
      "outputs": [
        {
          "output_type": "stream",
          "text": [
            "Images have shape (406, 395, 300, 3)\n",
            "{'compliant': 0, 'defected': 1}\n",
            "Target array has shape (406,)\n"
          ],
          "name": "stdout"
        }
      ]
    },
    {
      "cell_type": "markdown",
      "metadata": {
        "id": "oFQ776l6ZwRE"
      },
      "source": [
        "# Using HOG features\r\n",
        "\r\n",
        "A feature descriptor is a representation of an image or an image patch that simplifies the image by extracting useful information and throwing away extraneous information.\r\n",
        "\r\n",
        "* the feature vector is not useful for the purpose of viewing the image. But, it is very useful for tasks like image recognition and object detection. The feature vector produced by these algorithms when fed into an image classification algorithms like Support Vector Machine (SVM) produce good results.\r\n",
        "\r\n",
        "In the HOG feature descriptor, the distribution ( histograms ) of directions of gradients ( oriented gradients ) are used as features. Gradients ( x and y derivatives ) of an image are useful because the magnitude of gradients is large around edges and corners ( regions of abrupt intensity changes ) and we know that edges and corners pack in a lot more information about object shape than flat regions."
      ]
    },
    {
      "cell_type": "code",
      "metadata": {
        "colab": {
          "base_uri": "https://localhost:8080/",
          "height": 349
        },
        "id": "TwkowlMH5SyQ",
        "outputId": "f2fa90e2-987d-46d4-dfb5-15fe0ca99285"
      },
      "source": [
        "# Just an example of HOG features\r\n",
        "\r\n",
        "prod = imread('defected_artificial/transparent/col1_down_12.jpg', as_gray=True)\r\n",
        " \r\n",
        "# scale down the image \r\n",
        "prod = rescale(prod, 1/2, mode='reflect')\r\n",
        "# calculate the hog and return a visual representation.\r\n",
        "prod_hog, prod_hog_img = hog(\r\n",
        "    prod, pixels_per_cell=(4,4), \r\n",
        "    cells_per_block=(2, 2), \r\n",
        "    orientations=9, \r\n",
        "    visualize=True, \r\n",
        "    block_norm='L2-Hys')\r\n",
        " \r\n",
        "fig, ax = plt.subplots(1,2)\r\n",
        "fig.set_size_inches(8,6)\r\n",
        "# remove ticks and their labels\r\n",
        "[a.tick_params(bottom=False, left=False, labelbottom=False, labelleft=False) \r\n",
        "    for a in ax]\r\n",
        " \r\n",
        "ax[0].imshow(prod, cmap='gray')\r\n",
        "ax[0].set_title('image')\r\n",
        "ax[1].imshow(prod_hog_img, cmap='gray')\r\n",
        "ax[1].set_title('hog')\r\n",
        "plt.show()\r\n",
        "\r\n",
        "print('number of pixels: ', prod.shape[0] * prod.shape[1])\r\n",
        "print('number of hog features: ', prod_hog.shape[0])"
      ],
      "execution_count": 4,
      "outputs": [
        {
          "output_type": "display_data",
          "data": {
            "image/png": "[encoded data removed]",
            "text/plain": [
              "<Figure size 576x432 with 2 Axes>"
            ]
          },
          "metadata": {
            "tags": []
          }
        },
        {
          "output_type": "stream",
          "text": [
            "number of pixels:  32136\n",
            "number of hog features:  68400\n"
          ],
          "name": "stdout"
        }
      ]
    },
    {
      "cell_type": "code",
      "metadata": {
        "id": "bIKyjyK76lP-"
      },
      "source": [
        "class RGB2GrayTransformer(BaseEstimator, TransformerMixin):\r\n",
        "    \"\"\"\r\n",
        "    Convert an array of RGB images to grayscale\r\n",
        "    \"\"\"\r\n",
        "    def __init__(self):\r\n",
        "        pass\r\n",
        " \r\n",
        "    def fit(self, X, y=None):\r\n",
        "        return self\r\n",
        " \r\n",
        "    def transform(self, X, y=None):\r\n",
        "        return np.array([skimage.color.rgb2gray(img) for img in X])\r\n",
        "     \r\n",
        " \r\n",
        "class HogTransformer(BaseEstimator, TransformerMixin):\r\n",
        "    \"\"\"\r\n",
        "    Expects an array of 2d arrays (1 channel images)\r\n",
        "    Calculates hog features for each image\r\n",
        "    \"\"\" \r\n",
        "    def __init__(self, y=None, orientations=9,\r\n",
        "                 pixels_per_cell=(8, 8),\r\n",
        "                 cells_per_block=(2, 2), block_norm='L2-Hys'):\r\n",
        "        self.y = y\r\n",
        "        self.orientations = orientations\r\n",
        "        self.pixels_per_cell = pixels_per_cell\r\n",
        "        self.cells_per_block = cells_per_block\r\n",
        "        self.block_norm = block_norm\r\n",
        " \r\n",
        "    def fit(self, X, y=None):\r\n",
        "        return self\r\n",
        " \r\n",
        "    def transform(self, X, y=None):\r\n",
        "       \r\n",
        "        X = np.array([rescale(img, 1/2, mode='reflect') for img in X])\r\n",
        " \r\n",
        "        def local_hog(X):\r\n",
        "            return hog(X,\r\n",
        "                       orientations=self.orientations,\r\n",
        "                       pixels_per_cell=self.pixels_per_cell,\r\n",
        "                       cells_per_block=self.cells_per_block,\r\n",
        "                       block_norm=self.block_norm)\r\n",
        " \r\n",
        "        try: # parallel\r\n",
        "            return np.array([local_hog(img) for img in X])\r\n",
        "        except:\r\n",
        "            return np.array([local_hog(img) for img in X])"
      ],
      "execution_count": 5,
      "outputs": []
    },
    {
      "cell_type": "code",
      "metadata": {
        "colab": {
          "base_uri": "https://localhost:8080/"
        },
        "id": "wcrYvjv5_kqN",
        "outputId": "a194d5e5-77d1-4979-bff3-b8f539543d15"
      },
      "source": [
        "from sklearn.linear_model import SGDClassifier\r\n",
        "from sklearn.model_selection import cross_val_predict\r\n",
        "from sklearn.preprocessing import StandardScaler, Normalizer\r\n",
        "import skimage\r\n",
        " \r\n",
        "# create an instance of each transformer\r\n",
        "grayify = RGB2GrayTransformer()\r\n",
        "hogify = HogTransformer(\r\n",
        "    pixels_per_cell=(14, 14), \r\n",
        "    cells_per_block=(2,2), \r\n",
        "    orientations=9, \r\n",
        "    block_norm='L2-Hys')\r\n",
        "scalify = StandardScaler()\r\n",
        "\r\n",
        "\r\n",
        "X = img_data.copy()\r\n",
        "y = target_val.copy()\r\n",
        "# Construct the training and test splits \r\n",
        "X_train, X_test, y_train, y_test = train_test_split(X, y, test_size=0.25, random_state=42, stratify=y)\r\n",
        "\r\n",
        "\r\n",
        "# Data Augmentation\r\n",
        "def noisy(noise_typ,image):\r\n",
        "  # Rotate the image (cropped version / use rotate_bound instead)\r\n",
        "  angles = np.arange(0, 360, 15)\r\n",
        "  rotated = imutils.rotate(image, np.random.choice(angles))\r\n",
        "  image = cv2.cvtColor(rotated, cv2.COLOR_BGR2RGB)\r\n",
        "\r\n",
        "  if noise_typ == \"gauss\":\r\n",
        "    row,col,ch= image.shape\r\n",
        "    mean = 0\r\n",
        "    var = 0.1\r\n",
        "    sigma = var**0.5\r\n",
        "    gauss = np.random.normal(mean,sigma,(row,col,ch))\r\n",
        "    gauss = gauss.reshape(row,col,ch)\r\n",
        "    noisy = image + gauss\r\n",
        "    return noisy\r\n",
        "\r\n",
        "  elif noise_typ == \"s&p\":\r\n",
        "    row,col,ch = image.shape\r\n",
        "    s_vs_p = 0.5\r\n",
        "    amount = 0.01\r\n",
        "    out = np.copy(image)\r\n",
        "    # Salt mode\r\n",
        "    num_salt = np.ceil(amount * image.size * s_vs_p)\r\n",
        "    coords = [np.random.randint(0, i - 1, int(num_salt))\r\n",
        "            for i in image.shape]\r\n",
        "    out[coords] = 1\r\n",
        "    # Pepper mode\r\n",
        "    num_pepper = np.ceil(amount* image.size * (1. - s_vs_p))\r\n",
        "    coords = [np.random.randint(0, i - 1, int(num_pepper))\r\n",
        "            for i in image.shape]\r\n",
        "    out[coords] = 0\r\n",
        "    return out\r\n",
        "\r\n",
        "# Perform data Augmentation on training set\r\n",
        "'''\r\n",
        "img_augmented = []\r\n",
        "for img in X_train:  \r\n",
        "  if np.random.choice([0,1]) == 1:\r\n",
        "    # Perform data augmentation\r\n",
        "    img = noisy('s&p', img) \r\n",
        "  img_augmented.append(img)\r\n",
        "\r\n",
        "img_augmented = np.asarray(img_augmented)\r\n",
        "X_train = img_augmented.copy()\r\n",
        "'''\r\n",
        "\r\n",
        "\r\n",
        "# Call fit_transform on each transform converting X_train step by step\r\n",
        "X_train_gray = grayify.fit_transform(X_train)\r\n",
        "X_train_hog = hogify.fit_transform(X_train_gray)\r\n",
        "X_train_prepared = scalify.fit_transform(X_train_hog)\r\n",
        " \r\n",
        "print(X_train_prepared.shape)\r\n",
        "\r\n",
        "# Call transform on test set\r\n",
        "X_test_gray = grayify.transform(X_test)\r\n",
        "X_test_hog = hogify.transform(X_test_gray)\r\n",
        "X_test_prepared = scalify.transform(X_test_hog)\r\n",
        "\r\n",
        "X_train = X_train_prepared.copy()\r\n",
        "X_test = X_test_prepared.copy()\r\n"
      ],
      "execution_count": 6,
      "outputs": [
        {
          "output_type": "stream",
          "text": [
            "(304, 4212)\n"
          ],
          "name": "stdout"
        }
      ]
    },
    {
      "cell_type": "markdown",
      "metadata": {
        "id": "bqox9pH3OPRy"
      },
      "source": [
        "#Building the model\r\n"
      ]
    },
    {
      "cell_type": "code",
      "metadata": {
        "id": "_WPuh-AiOSCU"
      },
      "source": [
        "IMG_HEIGHT  = 395\r\n",
        "IMG_WIDTH   = 300\r\n",
        "\r\n",
        "\r\n",
        "def searchHyper(pipeline, grid, X_train, y_train):\r\n",
        "  gsCV = GridSearchCV(pipeline, param_grid = grid, scoring='f1_weighted', \r\n",
        "                      verbose = 0, cv=5, n_jobs=-1)\r\n",
        "  gsCV.fit(X_train, y_train)\r\n",
        "\r\n",
        "  print()\r\n",
        "  print(f\"Best parameters set found on development set: {gsCV.best_params_}\")\r\n",
        "\r\n",
        "  return gsCV \r\n",
        "\r\n",
        "\r\n",
        "def applyModel(gsCV, print_img=0):  \r\n",
        "  print(\"Detailed classification report:\")\r\n",
        "  y_pred = gsCV.best_estimator_.predict(X_test)\r\n",
        "  print(classification_report(y_test, y_pred))\r\n",
        "  print()\r\n",
        "\r\n",
        "  #F1 score\r\n",
        "  f1 = f1_score(y_test, y_pred, average='weighted')\r\n",
        "  print(f\"F1-score is: {f1}\")\r\n",
        "  # Plot confusion matrix\r\n",
        "  plt.figure(figsize=(10,7))\r\n",
        "  sns.heatmap(confusion_matrix(y_test, y_pred), annot=True, fmt='.1f', cmap=sns.color_palette(\"Blues\", 25))\r\n",
        "  plt.show()\r\n",
        "\r\n",
        "  # Print misclassified samples\r\n",
        "  if print_img == 1:\r\n",
        "    y_true = np.asarray(y_test)\r\n",
        "    X_true = np.asarray(X_test)\r\n",
        "    not_correct = [test for pred, true, test in zip(y_pred, y_true, X_true) if pred!=true]\r\n",
        "    for img in not_correct:\r\n",
        "      #img *= 255\r\n",
        "      img = img.reshape(IMG_HEIGHT, IMG_WIDTH, 3)\r\n",
        "      \r\n",
        "      plt.figure()\r\n",
        "      plt.imshow(img) \r\n",
        "      plt.show()\r\n",
        "  \r\n",
        "  return np.asarray(y_pred)\r\n"
      ],
      "execution_count": 7,
      "outputs": []
    },
    {
      "cell_type": "markdown",
      "metadata": {
        "id": "dOYNy04dPINY"
      },
      "source": [
        "#KNN"
      ]
    },
    {
      "cell_type": "code",
      "metadata": {
        "id": "rpiodZFIPA4k",
        "cellView": "form"
      },
      "source": [
        "#@title #####> Click here to show code\r\n",
        "\r\n",
        "\r\n",
        "#make pipeline for KNN\r\n",
        "pipeline_knn = imbPipeline([\r\n",
        "                     ('classifier', KNN())\r\n",
        "                     ]) \r\n",
        "\r\n",
        "# Set the parameters \r\n",
        "grid_knn = {'classifier__n_neighbors': [3, 4, 5, 7 ]}"
      ],
      "execution_count": 8,
      "outputs": []
    },
    {
      "cell_type": "markdown",
      "metadata": {
        "id": "O9HzGR4bGm8L"
      },
      "source": [
        "## *KNN on standardized + HOG*"
      ]
    },
    {
      "cell_type": "code",
      "metadata": {
        "colab": {
          "base_uri": "https://localhost:8080/",
          "height": 747
        },
        "id": "m26vqcXIGkAl",
        "outputId": "cbecaee9-c4e4-41c7-a2c6-6a513a46ecb7"
      },
      "source": [
        "knn_model = searchHyper(pipeline_knn, grid_knn, X_train, y_train)\r\n",
        "applyModel(knn_model)"
      ],
      "execution_count": 9,
      "outputs": [
        {
          "output_type": "stream",
          "text": [
            "\n",
            "Best parameters set found on development set: {'classifier__n_neighbors': 7}\n",
            "Detailed classification report:\n",
            "              precision    recall  f1-score   support\n",
            "\n",
            "           0       0.74      0.87      0.80        55\n",
            "           1       0.81      0.64      0.71        47\n",
            "\n",
            "    accuracy                           0.76       102\n",
            "   macro avg       0.77      0.76      0.76       102\n",
            "weighted avg       0.77      0.76      0.76       102\n",
            "\n",
            "\n",
            "F1-score is: 0.7605042016806722\n"
          ],
          "name": "stdout"
        },
        {
          "output_type": "display_data",
          "data": {
            "image/png": "[encoded data removed]",
            "text/plain": [
              "<Figure size 720x504 with 2 Axes>"
            ]
          },
          "metadata": {
            "tags": [],
            "needs_background": "light"
          }
        },
        {
          "output_type": "execute_result",
          "data": {
            "text/plain": [
              "array([0, 1, 0, 0, 1, 0, 1, 1, 0, 1, 1, 0, 0, 1, 0, 0, 0, 1, 1, 0, 1, 0,\n",
              "       1, 0, 0, 0, 0, 0, 0, 0, 0, 0, 0, 0, 0, 0, 1, 0, 0, 1, 1, 0, 1, 0,\n",
              "       1, 0, 0, 1, 0, 0, 0, 0, 1, 1, 0, 0, 0, 1, 1, 0, 1, 0, 1, 1, 0, 0,\n",
              "       1, 0, 1, 0, 0, 0, 0, 1, 1, 0, 0, 1, 0, 0, 0, 0, 1, 0, 1, 0, 1, 0,\n",
              "       0, 0, 1, 0, 0, 1, 0, 0, 0, 0, 1, 0, 1, 1])"
            ]
          },
          "metadata": {
            "tags": []
          },
          "execution_count": 9
        }
      ]
    },
    {
      "cell_type": "markdown",
      "metadata": {
        "id": "wXdq9ck9RHFG"
      },
      "source": [
        "# Decision Tree"
      ]
    },
    {
      "cell_type": "code",
      "metadata": {
        "id": "p8GyHXPvRL3z",
        "cellView": "form"
      },
      "source": [
        "#@title #####> Click here to show code\r\n",
        "\r\n",
        "\r\n",
        "#make pipeline for DT\r\n",
        "pipeline_dt = imbPipeline([\r\n",
        "                     ('classifier', DecisionTreeClassifier())\r\n",
        "                     ]) \r\n",
        "\r\n",
        "grid_dt = {'classifier__criterion': [\"gini\", \"entropy\"],\r\n",
        "            'classifier__max_depth': [5, 10, 13, 14, 15, 20]}"
      ],
      "execution_count": 10,
      "outputs": []
    },
    {
      "cell_type": "markdown",
      "metadata": {
        "id": "fB24PdGgFvBI"
      },
      "source": [
        "## *Decision Tree on standardized + HOG*"
      ]
    },
    {
      "cell_type": "code",
      "metadata": {
        "colab": {
          "base_uri": "https://localhost:8080/",
          "height": 747
        },
        "id": "vAqCArTTFl_R",
        "outputId": "b2e6395b-bc22-459b-e5a1-f4a2ce9f64ec"
      },
      "source": [
        "dt_model = searchHyper(pipeline_dt, grid_dt, X_train, y_train)\r\n",
        "applyModel(dt_model)"
      ],
      "execution_count": 11,
      "outputs": [
        {
          "output_type": "stream",
          "text": [
            "\n",
            "Best parameters set found on development set: {'classifier__criterion': 'gini', 'classifier__max_depth': 10}\n",
            "Detailed classification report:\n",
            "              precision    recall  f1-score   support\n",
            "\n",
            "           0       0.76      0.80      0.78        55\n",
            "           1       0.75      0.70      0.73        47\n",
            "\n",
            "    accuracy                           0.75       102\n",
            "   macro avg       0.75      0.75      0.75       102\n",
            "weighted avg       0.75      0.75      0.75       102\n",
            "\n",
            "\n",
            "F1-score is: 0.754115397009723\n"
          ],
          "name": "stdout"
        },
        {
          "output_type": "display_data",
          "data": {
            "image/png": "[encoded data removed]",
            "text/plain": [
              "<Figure size 720x504 with 2 Axes>"
            ]
          },
          "metadata": {
            "tags": [],
            "needs_background": "light"
          }
        },
        {
          "output_type": "execute_result",
          "data": {
            "text/plain": [
              "array([0, 1, 0, 1, 1, 1, 0, 0, 0, 1, 1, 1, 0, 1, 0, 0, 1, 1, 0, 0, 1, 0,\n",
              "       1, 0, 1, 0, 0, 0, 0, 0, 0, 1, 1, 0, 0, 1, 1, 0, 0, 1, 1, 0, 1, 0,\n",
              "       1, 0, 0, 0, 0, 1, 1, 0, 1, 1, 1, 1, 1, 1, 1, 0, 0, 0, 0, 1, 1, 0,\n",
              "       0, 0, 1, 0, 0, 0, 0, 1, 0, 1, 0, 0, 1, 0, 1, 0, 1, 1, 0, 0, 1, 0,\n",
              "       0, 0, 0, 1, 0, 1, 0, 0, 0, 0, 0, 1, 1, 0])"
            ]
          },
          "metadata": {
            "tags": []
          },
          "execution_count": 11
        }
      ]
    },
    {
      "cell_type": "markdown",
      "metadata": {
        "id": "2OYQNpU5Ve1Q"
      },
      "source": [
        "# Random Forest"
      ]
    },
    {
      "cell_type": "code",
      "metadata": {
        "id": "T2kiOuuHVg5A"
      },
      "source": [
        "#@title #####> Click here to show code\r\n",
        "\r\n",
        "#make pipeline for RF\r\n",
        "pipeline_rf = imbPipeline([\r\n",
        "                     ('classifier', RandomForestClassifier())\r\n",
        "                     ]) \r\n",
        "\r\n",
        "grid_rf = {'classifier__criterion': [\"gini\", \"entropy\"],\r\n",
        "            'classifier__max_depth': [5, 10, 15],\r\n",
        "           'classifier__n_estimators': [2, 3, 4, 5]}"
      ],
      "execution_count": 12,
      "outputs": []
    },
    {
      "cell_type": "markdown",
      "metadata": {
        "id": "0vjdNv7Dj_Ok"
      },
      "source": [
        "## *Random Forest on standardized dataset + HOG*"
      ]
    },
    {
      "cell_type": "code",
      "metadata": {
        "colab": {
          "base_uri": "https://localhost:8080/",
          "height": 747
        },
        "id": "f6Rj-KPBj3gZ",
        "outputId": "075a8869-dbe0-43f4-a82a-1c37610ee519"
      },
      "source": [
        "rf_model = searchHyper(pipeline_rf, grid_rf, X_train, y_train)\r\n",
        "applyModel(rf_model)"
      ],
      "execution_count": 13,
      "outputs": [
        {
          "output_type": "stream",
          "text": [
            "\n",
            "Best parameters set found on development set: {'classifier__criterion': 'gini', 'classifier__max_depth': 5, 'classifier__n_estimators': 3}\n",
            "Detailed classification report:\n",
            "              precision    recall  f1-score   support\n",
            "\n",
            "           0       0.72      0.65      0.69        55\n",
            "           1       0.63      0.70      0.67        47\n",
            "\n",
            "    accuracy                           0.68       102\n",
            "   macro avg       0.68      0.68      0.68       102\n",
            "weighted avg       0.68      0.68      0.68       102\n",
            "\n",
            "\n",
            "F1-score is: 0.676937441643324\n"
          ],
          "name": "stdout"
        },
        {
          "output_type": "display_data",
          "data": {
            "image/png": "[encoded data removed]",
            "text/plain": [
              "<Figure size 720x504 with 2 Axes>"
            ]
          },
          "metadata": {
            "tags": [],
            "needs_background": "light"
          }
        },
        {
          "output_type": "execute_result",
          "data": {
            "text/plain": [
              "array([0, 0, 1, 0, 0, 1, 0, 0, 0, 0, 1, 1, 0, 1, 0, 0, 0, 1, 0, 0, 1, 0,\n",
              "       1, 1, 0, 0, 0, 1, 1, 0, 0, 1, 1, 1, 0, 0, 1, 0, 1, 1, 1, 0, 1, 1,\n",
              "       0, 1, 1, 0, 1, 1, 1, 1, 0, 1, 0, 0, 0, 1, 1, 0, 1, 0, 1, 1, 0, 1,\n",
              "       0, 0, 1, 0, 0, 1, 0, 1, 1, 1, 1, 1, 0, 0, 1, 0, 1, 1, 1, 0, 1, 0,\n",
              "       0, 0, 1, 0, 1, 1, 1, 0, 0, 0, 0, 1, 1, 1])"
            ]
          },
          "metadata": {
            "tags": []
          },
          "execution_count": 13
        }
      ]
    },
    {
      "cell_type": "markdown",
      "metadata": {
        "id": "fsnyInQbV1TU"
      },
      "source": [
        "# Linear SVC"
      ]
    },
    {
      "cell_type": "code",
      "metadata": {
        "id": "Ndushil7V32n",
        "cellView": "form"
      },
      "source": [
        "#@title #####> Click here to show code\r\n",
        "\r\n",
        "#make pipeline for SVC\r\n",
        "pipeline_svc = imbPipeline([\r\n",
        "                     ('classifier', svm.LinearSVC())\r\n",
        "                     ]) \r\n",
        "\r\n",
        "# Set the parameters \r\n",
        "grid_svc = {'classifier__C': [ 0.1, 1, 10, 100]}\r\n",
        "\r\n",
        "\r\n",
        "#make pipeline for SVC\r\n",
        "pipeline_rbf = imbPipeline([\r\n",
        "                     ('classifier', svm.SVC(kernel='rbf'))\r\n",
        "                     ]) \r\n",
        "\r\n",
        "# Set the parameters \r\n",
        "grid_rbf = {'classifier__C': [ 0.1, 1, 10, 100],\r\n",
        "            'classifier__gamma': [0.001, 0.01, 0.1, 1, 10, 100]}"
      ],
      "execution_count": 14,
      "outputs": []
    },
    {
      "cell_type": "markdown",
      "metadata": {
        "id": "GdFGN-hEiw1o"
      },
      "source": [
        "## *Linear SVC on standardized + HOG*"
      ]
    },
    {
      "cell_type": "code",
      "metadata": {
        "colab": {
          "base_uri": "https://localhost:8080/",
          "height": 751
        },
        "id": "PSlcjKAJjEdl",
        "outputId": "53f6d165-3c77-41b0-bae1-e13a458f26cb"
      },
      "source": [
        "svc_model = searchHyper(pipeline_svc, grid_svc, X_train, y_train)\r\n",
        "applyModel(svc_model)"
      ],
      "execution_count": 15,
      "outputs": [
        {
          "output_type": "stream",
          "text": [
            "\n",
            "Best parameters set found on development set: {'classifier__C': 0.1}\n",
            "Detailed classification report:\n",
            "              precision    recall  f1-score   support\n",
            "\n",
            "           0       0.85      0.82      0.83        55\n",
            "           1       0.80      0.83      0.81        47\n",
            "\n",
            "    accuracy                           0.82       102\n",
            "   macro avg       0.82      0.82      0.82       102\n",
            "weighted avg       0.82      0.82      0.82       102\n",
            "\n",
            "\n",
            "F1-score is: 0.823733660130719\n"
          ],
          "name": "stdout"
        },
        {
          "output_type": "display_data",
          "data": {
            "image/png": "[encoded data removed]",
            "text/plain": [
              "<Figure size 720x504 with 2 Axes>"
            ]
          },
          "metadata": {
            "tags": [],
            "needs_background": "light"
          }
        },
        {
          "output_type": "execute_result",
          "data": {
            "text/plain": [
              "array([0, 1, 1, 0, 1, 0, 0, 1, 0, 1, 1, 0, 0, 1, 0, 0, 0, 1, 0, 0, 1, 0,\n",
              "       1, 1, 0, 0, 0, 0, 0, 1, 0, 1, 1, 0, 0, 0, 1, 0, 1, 1, 1, 0, 1, 1,\n",
              "       1, 0, 1, 0, 0, 0, 1, 1, 0, 1, 0, 0, 0, 1, 1, 0, 1, 0, 0, 1, 1, 0,\n",
              "       1, 0, 1, 0, 0, 0, 0, 1, 1, 1, 0, 1, 1, 0, 1, 0, 1, 1, 1, 0, 1, 0,\n",
              "       0, 0, 1, 0, 0, 1, 1, 0, 0, 0, 1, 1, 1, 1])"
            ]
          },
          "metadata": {
            "tags": []
          },
          "execution_count": 15
        }
      ]
    },
    {
      "cell_type": "markdown",
      "metadata": {
        "id": "2_g8W3TM-jK_"
      },
      "source": [
        "## *SVC kernel rbf on standardized + HOG*"
      ]
    },
    {
      "cell_type": "code",
      "metadata": {
        "colab": {
          "base_uri": "https://localhost:8080/",
          "height": 747
        },
        "id": "_YN0QSgL-bTu",
        "outputId": "c7eeb133-ba85-4549-895a-237093c2cb43"
      },
      "source": [
        "gsCV = searchHyper(pipeline_rbf, grid_rbf, X_train, y_train)\r\n",
        "applyModel(gsCV)"
      ],
      "execution_count": 16,
      "outputs": [
        {
          "output_type": "stream",
          "text": [
            "\n",
            "Best parameters set found on development set: {'classifier__C': 10, 'classifier__gamma': 0.001}\n",
            "Detailed classification report:\n",
            "              precision    recall  f1-score   support\n",
            "\n",
            "           0       0.72      0.93      0.81        55\n",
            "           1       0.87      0.57      0.69        47\n",
            "\n",
            "    accuracy                           0.76       102\n",
            "   macro avg       0.79      0.75      0.75       102\n",
            "weighted avg       0.79      0.76      0.76       102\n",
            "\n",
            "\n",
            "F1-score is: 0.7555124613948145\n"
          ],
          "name": "stdout"
        },
        {
          "output_type": "display_data",
          "data": {
            "image/png": "[encoded data removed]",
            "text/plain": [
              "<Figure size 720x504 with 2 Axes>"
            ]
          },
          "metadata": {
            "tags": [],
            "needs_background": "light"
          }
        },
        {
          "output_type": "execute_result",
          "data": {
            "text/plain": [
              "array([0, 0, 0, 0, 1, 0, 0, 0, 0, 1, 1, 0, 0, 1, 0, 0, 0, 1, 0, 0, 1, 0,\n",
              "       1, 0, 0, 0, 0, 0, 0, 1, 0, 0, 1, 0, 0, 0, 1, 0, 0, 1, 1, 0, 1, 0,\n",
              "       1, 0, 0, 0, 0, 0, 0, 0, 0, 1, 0, 0, 0, 1, 1, 0, 0, 0, 0, 1, 0, 0,\n",
              "       1, 0, 1, 0, 0, 0, 0, 1, 0, 1, 0, 1, 0, 0, 0, 0, 1, 1, 0, 0, 1, 0,\n",
              "       0, 0, 1, 0, 0, 1, 0, 0, 0, 0, 1, 1, 1, 0])"
            ]
          },
          "metadata": {
            "tags": []
          },
          "execution_count": 16
        }
      ]
    },
    {
      "cell_type": "markdown",
      "metadata": {
        "id": "hXYGIxGzq6NG"
      },
      "source": [
        "# ANOVA"
      ]
    },
    {
      "cell_type": "code",
      "metadata": {
        "colab": {
          "base_uri": "https://localhost:8080/"
        },
        "id": "W8p0QKrzq8cQ",
        "outputId": "d493f0d4-7571-4c85-f18c-11454855dd6f"
      },
      "source": [
        "#----------------------------------------------------------\r\n",
        "# FACTORS\r\n",
        "# Defining the list of the factors for artificial DoE design\r\n",
        "#----------------------------------------------------------\r\n",
        "\r\n",
        "SIZE     = [\"12\",\"11\",\"9\",\"8\"]          # in pixels\r\n",
        "COLOR    = [\"col1\",\"col2\",\"col3\"]       # pasta, label, ground_white\r\n",
        "POSITION = [\"down\",\"up\",\"left\",\"right\"]\r\n",
        "\r\n",
        "NUM_RANDOM_ITER = 47\r\n",
        "NAMES    = [\"Colour\", \"Noise Position\", \"Noise Size\"]\r\n",
        "PATH = \"randomized_doe_black.xlsx\"\r\n",
        "\r\n",
        "IMG_FOLDER = 'defected_artificial/black/'\r\n",
        "#IMG_FOLDER = 'defected_artificial/transparent/'\r\n",
        "IMG_WIDTH   = 300\r\n",
        "IMG_HEIGHT  = 395\r\n",
        "\r\n",
        "#----------------------------------------------------------\r\n",
        "# COMBINATIONS\r\n",
        "# Computes experiments list as combinations of factor\r\n",
        "# elements\r\n",
        "#----------------------------------------------------------\r\n",
        "\r\n",
        "elements = [COLOR, POSITION, SIZE]\r\n",
        "doe_design = list(itertools.product(*elements))\r\n",
        "\r\n",
        "# RANDOMIZE!!!! It is very important in DoE approach to avoid\r\n",
        "# environmental noises\r\n",
        "for it in range(1,NUM_RANDOM_ITER+1):\r\n",
        "    random.shuffle(doe_design)\r\n",
        "\r\n",
        "\r\n",
        "# Preprocessing\r\n",
        "img_array  = []\r\n",
        "for el in doe_design:\r\n",
        "  img_name = el[0] + '_' + el[1] + '_' + el[2] + '.jpg'\r\n",
        "  image_path = os.path.join(IMG_FOLDER, img_name)\r\n",
        "  image = cv2.imread(image_path, cv2.COLOR_BGR2RGB)\r\n",
        "\r\n",
        "  # Resize the image. Stretch the image using cv2.INTER_AREA\r\n",
        "  dim = (IMG_WIDTH, image.shape[0])\r\n",
        "  image = cv2.resize(image, dim, interpolation = cv2.INTER_AREA)\r\n",
        "  image = np.array(image, dtype='float32')\r\n",
        "  \r\n",
        "  y = image.shape[0]\r\n",
        "  diff  = y - IMG_HEIGHT\r\n",
        "  crop1 = np.array(image[0:(int((1/3)*y)), :], dtype='float32')\r\n",
        "  crop2 = np.array(image[int((1/3)*y)+diff:, :], dtype='float32')\r\n",
        "  image = np.concatenate((crop1, crop2))\r\n",
        "  image = np.array(image, dtype='float32')\r\n",
        "\r\n",
        "  image /= 255\r\n",
        "  #image = image.flatten()\r\n",
        "  img_array.append(image)\r\n",
        "\r\n",
        "img_array = np.array(img_array)\r\n",
        "print(img_array.shape)\r\n",
        "print(len(img_array))\r\n",
        "labels_defected = np.array([1]*len(img_array))\r\n",
        "print(labels_defected)\r\n"
      ],
      "execution_count": 22,
      "outputs": [
        {
          "output_type": "stream",
          "text": [
            "(48, 395, 300, 3)\n",
            "48\n",
            "[1 1 1 1 1 1 1 1 1 1 1 1 1 1 1 1 1 1 1 1 1 1 1 1 1 1 1 1 1 1 1 1 1 1 1 1 1\n",
            " 1 1 1 1 1 1 1 1 1 1 1]\n"
          ],
          "name": "stdout"
        }
      ]
    },
    {
      "cell_type": "code",
      "metadata": {
        "id": "s_IeDmvtrIY1"
      },
      "source": [
        "\r\n",
        "# Call transform on test set\r\n",
        "X_test_gray = grayify.transform(img_array)\r\n",
        "X_test_hog = hogify.transform(X_test_gray)\r\n",
        "X_test_prepared = scalify.transform(X_test_hog)\r\n",
        "\r\n",
        "X_test = X_test_prepared.copy()\r\n",
        "y_test = labels_defected.copy()\r\n",
        "\r\n",
        "\r\n"
      ],
      "execution_count": 23,
      "outputs": []
    },
    {
      "cell_type": "code",
      "metadata": {
        "colab": {
          "base_uri": "https://localhost:8080/",
          "height": 1000
        },
        "id": "Jsxm5OpAsS31",
        "outputId": "85eefb8d-ba6b-4468-ab24-2c9d62489e2d"
      },
      "source": [
        "knn_res = applyModel(knn_model)\r\n",
        "dt_res = applyModel(dt_model)\r\n",
        "rf_res = applyModel(rf_model)\r\n",
        "svc_res = applyModel(svc_model)"
      ],
      "execution_count": 24,
      "outputs": [
        {
          "output_type": "stream",
          "text": [
            "Detailed classification report:\n",
            "              precision    recall  f1-score   support\n",
            "\n",
            "           0       0.00      0.00      0.00       0.0\n",
            "           1       0.00      0.00      0.00      48.0\n",
            "\n",
            "    accuracy                           0.00      48.0\n",
            "   macro avg       0.00      0.00      0.00      48.0\n",
            "weighted avg       0.00      0.00      0.00      48.0\n",
            "\n",
            "\n",
            "F1-score is: 0.0\n"
          ],
          "name": "stdout"
        },
        {
          "output_type": "display_data",
          "data": {
            "image/png": "[encoded data removed]",
            "text/plain": [
              "<Figure size 720x504 with 2 Axes>"
            ]
          },
          "metadata": {
            "tags": [],
            "needs_background": "light"
          }
        },
        {
          "output_type": "stream",
          "text": [
            "Detailed classification report:\n",
            "              precision    recall  f1-score   support\n",
            "\n",
            "           0       0.00      0.00      0.00       0.0\n",
            "           1       0.00      0.00      0.00      48.0\n",
            "\n",
            "    accuracy                           0.00      48.0\n",
            "   macro avg       0.00      0.00      0.00      48.0\n",
            "weighted avg       0.00      0.00      0.00      48.0\n",
            "\n",
            "\n",
            "F1-score is: 0.0\n"
          ],
          "name": "stdout"
        },
        {
          "output_type": "display_data",
          "data": {
            "image/png": "[encoded data removed]",
            "text/plain": [
              "<Figure size 720x504 with 2 Axes>"
            ]
          },
          "metadata": {
            "tags": [],
            "needs_background": "light"
          }
        },
        {
          "output_type": "stream",
          "text": [
            "Detailed classification report:\n",
            "              precision    recall  f1-score   support\n",
            "\n",
            "           1       1.00      1.00      1.00        48\n",
            "\n",
            "    accuracy                           1.00        48\n",
            "   macro avg       1.00      1.00      1.00        48\n",
            "weighted avg       1.00      1.00      1.00        48\n",
            "\n",
            "\n",
            "F1-score is: 1.0\n"
          ],
          "name": "stdout"
        },
        {
          "output_type": "display_data",
          "data": {
            "image/png": "[encoded data removed]",
            "text/plain": [
              "<Figure size 720x504 with 2 Axes>"
            ]
          },
          "metadata": {
            "tags": [],
            "needs_background": "light"
          }
        },
        {
          "output_type": "stream",
          "text": [
            "Detailed classification report:\n",
            "              precision    recall  f1-score   support\n",
            "\n",
            "           0       0.00      0.00      0.00       0.0\n",
            "           1       0.00      0.00      0.00      48.0\n",
            "\n",
            "    accuracy                           0.00      48.0\n",
            "   macro avg       0.00      0.00      0.00      48.0\n",
            "weighted avg       0.00      0.00      0.00      48.0\n",
            "\n",
            "\n",
            "F1-score is: 0.0\n"
          ],
          "name": "stdout"
        },
        {
          "output_type": "display_data",
          "data": {
            "image/png": "[encoded data removed]",
            "text/plain": [
              "<Figure size 720x504 with 2 Axes>"
            ]
          },
          "metadata": {
            "tags": [],
            "needs_background": "light"
          }
        }
      ]
    },
    {
      "cell_type": "code",
      "metadata": {
        "colab": {
          "base_uri": "https://localhost:8080/"
        },
        "id": "15xBcK1I-gE8",
        "outputId": "116f91b8-19ef-4b4f-f58d-5153bfba2602"
      },
      "source": [
        "print(knn_res, dt_res, rf_res, svc_res)"
      ],
      "execution_count": 25,
      "outputs": [
        {
          "output_type": "stream",
          "text": [
            "[0 0 0 0 0 0 0 0 0 0 0 0 0 0 0 0 0 0 0 0 0 0 0 0 0 0 0 0 0 0 0 0 0 0 0 0 0\n",
            " 0 0 0 0 0 0 0 0 0 0 0] [0 0 0 0 0 0 0 0 0 0 0 0 0 0 0 0 0 0 0 0 0 0 0 0 0 0 0 0 0 0 0 0 0 0 0 0 0\n",
            " 0 0 0 0 0 0 0 0 0 0 0] [1 1 1 1 1 1 1 1 1 1 1 1 1 1 1 1 1 1 1 1 1 1 1 1 1 1 1 1 1 1 1 1 1 1 1 1 1\n",
            " 1 1 1 1 1 1 1 1 1 1 1] [0 0 0 0 0 0 0 0 0 0 0 0 0 0 0 0 0 0 0 0 0 0 0 0 0 0 0 0 0 0 0 0 0 0 0 0 0\n",
            " 0 0 0 0 0 0 0 0 0 0 0]\n"
          ],
          "name": "stdout"
        }
      ]
    },
    {
      "cell_type": "code",
      "metadata": {
        "id": "ZIDuAhdt_ysF"
      },
      "source": [
        "\r\n",
        "\r\n",
        "#Save on Dataframe object...\r\n",
        "data_frame = pd.DataFrame(doe_design, columns=NAMES)\r\n",
        "data_frame['KNN'] = knn_res\r\n",
        "data_frame['Decision Tree'] = dt_res\r\n",
        "data_frame['Rand Forest'] = rf_res\r\n",
        "data_frame['SVC'] = svc_res\r\n",
        "data_frame.to_excel(\"randomized_doe_transparent.xlsx\")"
      ],
      "execution_count": 26,
      "outputs": []
    }
  ]
}
